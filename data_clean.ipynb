{
 "cells": [
  {
   "cell_type": "code",
   "execution_count": 56,
   "metadata": {},
   "outputs": [],
   "source": [
    "import pandas as pd\n",
    "import numpy as np"
   ]
  },
  {
   "cell_type": "code",
   "execution_count": 57,
   "metadata": {},
   "outputs": [
    {
     "data": {
      "text/html": [
       "<div>\n",
       "<style scoped>\n",
       "    .dataframe tbody tr th:only-of-type {\n",
       "        vertical-align: middle;\n",
       "    }\n",
       "\n",
       "    .dataframe tbody tr th {\n",
       "        vertical-align: top;\n",
       "    }\n",
       "\n",
       "    .dataframe thead th {\n",
       "        text-align: right;\n",
       "    }\n",
       "</style>\n",
       "<table border=\"1\" class=\"dataframe\">\n",
       "  <thead>\n",
       "    <tr style=\"text-align: right;\">\n",
       "      <th></th>\n",
       "      <th>Date</th>\n",
       "      <th>Machine_ID</th>\n",
       "      <th>Assembly_Line_No</th>\n",
       "      <th>Hydraulic_Pressure(bar)</th>\n",
       "      <th>Coolant_Pressure(bar)</th>\n",
       "      <th>Air_System_Pressure(bar)</th>\n",
       "      <th>Coolant_Temperature</th>\n",
       "      <th>Hydraulic_Oil_Temperature(?C)</th>\n",
       "      <th>Spindle_Bearing_Temperature(?C)</th>\n",
       "      <th>Spindle_Vibration(?m)</th>\n",
       "      <th>Tool_Vibration(?m)</th>\n",
       "      <th>Spindle_Speed(RPM)</th>\n",
       "      <th>Voltage(volts)</th>\n",
       "      <th>Torque(Nm)</th>\n",
       "      <th>Cutting(kN)</th>\n",
       "      <th>Downtime</th>\n",
       "    </tr>\n",
       "  </thead>\n",
       "  <tbody>\n",
       "    <tr>\n",
       "      <th>0</th>\n",
       "      <td>31-12-2021</td>\n",
       "      <td>Makino-L1-Unit1-2013</td>\n",
       "      <td>Shopfloor-L1</td>\n",
       "      <td>71.04</td>\n",
       "      <td>6.933725</td>\n",
       "      <td>6.284965</td>\n",
       "      <td>25.6</td>\n",
       "      <td>46.0</td>\n",
       "      <td>33.4</td>\n",
       "      <td>1.291</td>\n",
       "      <td>26.492</td>\n",
       "      <td>25892.0</td>\n",
       "      <td>335.0</td>\n",
       "      <td>24.055326</td>\n",
       "      <td>3.58</td>\n",
       "      <td>Machine_Failure</td>\n",
       "    </tr>\n",
       "    <tr>\n",
       "      <th>1</th>\n",
       "      <td>31-12-2021</td>\n",
       "      <td>Makino-L1-Unit1-2013</td>\n",
       "      <td>Shopfloor-L1</td>\n",
       "      <td>125.33</td>\n",
       "      <td>4.936892</td>\n",
       "      <td>6.196733</td>\n",
       "      <td>35.3</td>\n",
       "      <td>47.4</td>\n",
       "      <td>34.6</td>\n",
       "      <td>1.382</td>\n",
       "      <td>25.274</td>\n",
       "      <td>19856.0</td>\n",
       "      <td>368.0</td>\n",
       "      <td>14.202890</td>\n",
       "      <td>2.68</td>\n",
       "      <td>Machine_Failure</td>\n",
       "    </tr>\n",
       "    <tr>\n",
       "      <th>2</th>\n",
       "      <td>31-12-2021</td>\n",
       "      <td>Makino-L3-Unit1-2015</td>\n",
       "      <td>Shopfloor-L3</td>\n",
       "      <td>71.12</td>\n",
       "      <td>6.839413</td>\n",
       "      <td>6.655448</td>\n",
       "      <td>13.1</td>\n",
       "      <td>40.7</td>\n",
       "      <td>33.0</td>\n",
       "      <td>1.319</td>\n",
       "      <td>30.608</td>\n",
       "      <td>19851.0</td>\n",
       "      <td>325.0</td>\n",
       "      <td>24.049267</td>\n",
       "      <td>3.55</td>\n",
       "      <td>Machine_Failure</td>\n",
       "    </tr>\n",
       "    <tr>\n",
       "      <th>3</th>\n",
       "      <td>31-05-2022</td>\n",
       "      <td>Makino-L2-Unit1-2015</td>\n",
       "      <td>Shopfloor-L2</td>\n",
       "      <td>139.34</td>\n",
       "      <td>4.574382</td>\n",
       "      <td>6.560394</td>\n",
       "      <td>24.4</td>\n",
       "      <td>44.2</td>\n",
       "      <td>40.6</td>\n",
       "      <td>0.618</td>\n",
       "      <td>30.791</td>\n",
       "      <td>18461.0</td>\n",
       "      <td>360.0</td>\n",
       "      <td>25.860029</td>\n",
       "      <td>3.55</td>\n",
       "      <td>Machine_Failure</td>\n",
       "    </tr>\n",
       "    <tr>\n",
       "      <th>4</th>\n",
       "      <td>31-03-2022</td>\n",
       "      <td>Makino-L1-Unit1-2013</td>\n",
       "      <td>Shopfloor-L1</td>\n",
       "      <td>60.51</td>\n",
       "      <td>6.893182</td>\n",
       "      <td>6.141238</td>\n",
       "      <td>4.1</td>\n",
       "      <td>47.3</td>\n",
       "      <td>31.4</td>\n",
       "      <td>0.983</td>\n",
       "      <td>25.516</td>\n",
       "      <td>26526.0</td>\n",
       "      <td>354.0</td>\n",
       "      <td>25.515874</td>\n",
       "      <td>3.55</td>\n",
       "      <td>Machine_Failure</td>\n",
       "    </tr>\n",
       "  </tbody>\n",
       "</table>\n",
       "</div>"
      ],
      "text/plain": [
       "         Date            Machine_ID Assembly_Line_No  Hydraulic_Pressure(bar)  \\\n",
       "0  31-12-2021  Makino-L1-Unit1-2013     Shopfloor-L1                    71.04   \n",
       "1  31-12-2021  Makino-L1-Unit1-2013     Shopfloor-L1                   125.33   \n",
       "2  31-12-2021  Makino-L3-Unit1-2015     Shopfloor-L3                    71.12   \n",
       "3  31-05-2022  Makino-L2-Unit1-2015     Shopfloor-L2                   139.34   \n",
       "4  31-03-2022  Makino-L1-Unit1-2013     Shopfloor-L1                    60.51   \n",
       "\n",
       "   Coolant_Pressure(bar)  Air_System_Pressure(bar)  Coolant_Temperature  \\\n",
       "0               6.933725                  6.284965                 25.6   \n",
       "1               4.936892                  6.196733                 35.3   \n",
       "2               6.839413                  6.655448                 13.1   \n",
       "3               4.574382                  6.560394                 24.4   \n",
       "4               6.893182                  6.141238                  4.1   \n",
       "\n",
       "   Hydraulic_Oil_Temperature(?C)  Spindle_Bearing_Temperature(?C)  \\\n",
       "0                           46.0                             33.4   \n",
       "1                           47.4                             34.6   \n",
       "2                           40.7                             33.0   \n",
       "3                           44.2                             40.6   \n",
       "4                           47.3                             31.4   \n",
       "\n",
       "   Spindle_Vibration(?m)  Tool_Vibration(?m)  Spindle_Speed(RPM)  \\\n",
       "0                  1.291              26.492             25892.0   \n",
       "1                  1.382              25.274             19856.0   \n",
       "2                  1.319              30.608             19851.0   \n",
       "3                  0.618              30.791             18461.0   \n",
       "4                  0.983              25.516             26526.0   \n",
       "\n",
       "   Voltage(volts)  Torque(Nm)  Cutting(kN)         Downtime  \n",
       "0           335.0   24.055326         3.58  Machine_Failure  \n",
       "1           368.0   14.202890         2.68  Machine_Failure  \n",
       "2           325.0   24.049267         3.55  Machine_Failure  \n",
       "3           360.0   25.860029         3.55  Machine_Failure  \n",
       "4           354.0   25.515874         3.55  Machine_Failure  "
      ]
     },
     "execution_count": 57,
     "metadata": {},
     "output_type": "execute_result"
    }
   ],
   "source": [
    "df = pd.read_csv(\"Machine Downtime.csv\")\n",
    "df.head()"
   ]
  },
  {
   "cell_type": "code",
   "execution_count": 58,
   "metadata": {},
   "outputs": [
    {
     "data": {
      "text/plain": [
       "Index(['Date', 'Machine_ID', 'Assembly_Line_No', 'Hydraulic_Pressure(bar)',\n",
       "       'Coolant_Pressure(bar)', 'Air_System_Pressure(bar)',\n",
       "       'Coolant_Temperature', 'Hydraulic_Oil_Temperature(?C)',\n",
       "       'Spindle_Bearing_Temperature(?C)', 'Spindle_Vibration(?m)',\n",
       "       'Tool_Vibration(?m)', 'Spindle_Speed(RPM)', 'Voltage(volts)',\n",
       "       'Torque(Nm)', 'Cutting(kN)', 'Downtime'],\n",
       "      dtype='object')"
      ]
     },
     "execution_count": 58,
     "metadata": {},
     "output_type": "execute_result"
    }
   ],
   "source": [
    "df.columns"
   ]
  },
  {
   "cell_type": "code",
   "execution_count": 59,
   "metadata": {},
   "outputs": [],
   "source": [
    "df = df.drop(columns=['Date', 'Assembly_Line_No', 'Hydraulic_Pressure(bar)','Coolant_Pressure(bar)', 'Air_System_Pressure(bar)','Hydraulic_Oil_Temperature(?C)',\n",
    "       'Spindle_Bearing_Temperature(?C)', 'Spindle_Vibration(?m)',\n",
    "       'Tool_Vibration(?m)', 'Spindle_Speed(RPM)', 'Voltage(volts)',\n",
    "       'Torque(Nm)', 'Cutting(kN)'])"
   ]
  },
  {
   "cell_type": "code",
   "execution_count": 60,
   "metadata": {},
   "outputs": [
    {
     "data": {
      "text/html": [
       "<div>\n",
       "<style scoped>\n",
       "    .dataframe tbody tr th:only-of-type {\n",
       "        vertical-align: middle;\n",
       "    }\n",
       "\n",
       "    .dataframe tbody tr th {\n",
       "        vertical-align: top;\n",
       "    }\n",
       "\n",
       "    .dataframe thead th {\n",
       "        text-align: right;\n",
       "    }\n",
       "</style>\n",
       "<table border=\"1\" class=\"dataframe\">\n",
       "  <thead>\n",
       "    <tr style=\"text-align: right;\">\n",
       "      <th></th>\n",
       "      <th>Machine_ID</th>\n",
       "      <th>Temperature</th>\n",
       "      <th>Downtime_Flag</th>\n",
       "    </tr>\n",
       "  </thead>\n",
       "  <tbody>\n",
       "    <tr>\n",
       "      <th>0</th>\n",
       "      <td>Makino-L1-Unit1-2013</td>\n",
       "      <td>25.6</td>\n",
       "      <td>Machine_Failure</td>\n",
       "    </tr>\n",
       "    <tr>\n",
       "      <th>1</th>\n",
       "      <td>Makino-L1-Unit1-2013</td>\n",
       "      <td>35.3</td>\n",
       "      <td>Machine_Failure</td>\n",
       "    </tr>\n",
       "    <tr>\n",
       "      <th>2</th>\n",
       "      <td>Makino-L3-Unit1-2015</td>\n",
       "      <td>13.1</td>\n",
       "      <td>Machine_Failure</td>\n",
       "    </tr>\n",
       "    <tr>\n",
       "      <th>3</th>\n",
       "      <td>Makino-L2-Unit1-2015</td>\n",
       "      <td>24.4</td>\n",
       "      <td>Machine_Failure</td>\n",
       "    </tr>\n",
       "    <tr>\n",
       "      <th>4</th>\n",
       "      <td>Makino-L1-Unit1-2013</td>\n",
       "      <td>4.1</td>\n",
       "      <td>Machine_Failure</td>\n",
       "    </tr>\n",
       "  </tbody>\n",
       "</table>\n",
       "</div>"
      ],
      "text/plain": [
       "             Machine_ID  Temperature    Downtime_Flag\n",
       "0  Makino-L1-Unit1-2013         25.6  Machine_Failure\n",
       "1  Makino-L1-Unit1-2013         35.3  Machine_Failure\n",
       "2  Makino-L3-Unit1-2015         13.1  Machine_Failure\n",
       "3  Makino-L2-Unit1-2015         24.4  Machine_Failure\n",
       "4  Makino-L1-Unit1-2013          4.1  Machine_Failure"
      ]
     },
     "execution_count": 60,
     "metadata": {},
     "output_type": "execute_result"
    }
   ],
   "source": [
    "df = df.rename(columns={'Coolant_Temperature':'Temperature','Downtime':'Downtime_Flag'})\n",
    "df.head()"
   ]
  },
  {
   "cell_type": "code",
   "execution_count": 61,
   "metadata": {},
   "outputs": [
    {
     "data": {
      "text/plain": [
       "array(['Machine_Failure', 'No_Machine_Failure'], dtype=object)"
      ]
     },
     "execution_count": 61,
     "metadata": {},
     "output_type": "execute_result"
    }
   ],
   "source": [
    "df['Downtime_Flag'].unique()"
   ]
  },
  {
   "cell_type": "code",
   "execution_count": 62,
   "metadata": {},
   "outputs": [
    {
     "data": {
      "text/html": [
       "<div>\n",
       "<style scoped>\n",
       "    .dataframe tbody tr th:only-of-type {\n",
       "        vertical-align: middle;\n",
       "    }\n",
       "\n",
       "    .dataframe tbody tr th {\n",
       "        vertical-align: top;\n",
       "    }\n",
       "\n",
       "    .dataframe thead th {\n",
       "        text-align: right;\n",
       "    }\n",
       "</style>\n",
       "<table border=\"1\" class=\"dataframe\">\n",
       "  <thead>\n",
       "    <tr style=\"text-align: right;\">\n",
       "      <th></th>\n",
       "      <th>Machine_ID</th>\n",
       "      <th>Temperature</th>\n",
       "      <th>Downtime_Flag</th>\n",
       "    </tr>\n",
       "  </thead>\n",
       "  <tbody>\n",
       "    <tr>\n",
       "      <th>0</th>\n",
       "      <td>Makino-L1-Unit1-2013</td>\n",
       "      <td>25.6</td>\n",
       "      <td>1</td>\n",
       "    </tr>\n",
       "    <tr>\n",
       "      <th>1</th>\n",
       "      <td>Makino-L1-Unit1-2013</td>\n",
       "      <td>35.3</td>\n",
       "      <td>1</td>\n",
       "    </tr>\n",
       "    <tr>\n",
       "      <th>2</th>\n",
       "      <td>Makino-L3-Unit1-2015</td>\n",
       "      <td>13.1</td>\n",
       "      <td>1</td>\n",
       "    </tr>\n",
       "    <tr>\n",
       "      <th>3</th>\n",
       "      <td>Makino-L2-Unit1-2015</td>\n",
       "      <td>24.4</td>\n",
       "      <td>1</td>\n",
       "    </tr>\n",
       "    <tr>\n",
       "      <th>4</th>\n",
       "      <td>Makino-L1-Unit1-2013</td>\n",
       "      <td>4.1</td>\n",
       "      <td>1</td>\n",
       "    </tr>\n",
       "  </tbody>\n",
       "</table>\n",
       "</div>"
      ],
      "text/plain": [
       "             Machine_ID  Temperature Downtime_Flag\n",
       "0  Makino-L1-Unit1-2013         25.6             1\n",
       "1  Makino-L1-Unit1-2013         35.3             1\n",
       "2  Makino-L3-Unit1-2015         13.1             1\n",
       "3  Makino-L2-Unit1-2015         24.4             1\n",
       "4  Makino-L1-Unit1-2013          4.1             1"
      ]
     },
     "execution_count": 62,
     "metadata": {},
     "output_type": "execute_result"
    }
   ],
   "source": [
    "df['Downtime_Flag'] = df['Downtime_Flag'].map({'Machine_Failure':'1', 'No_Machine_Failure':'0'})\n",
    "df.head()"
   ]
  },
  {
   "cell_type": "code",
   "execution_count": 67,
   "metadata": {},
   "outputs": [
    {
     "data": {
      "text/html": [
       "<div>\n",
       "<style scoped>\n",
       "    .dataframe tbody tr th:only-of-type {\n",
       "        vertical-align: middle;\n",
       "    }\n",
       "\n",
       "    .dataframe tbody tr th {\n",
       "        vertical-align: top;\n",
       "    }\n",
       "\n",
       "    .dataframe thead th {\n",
       "        text-align: right;\n",
       "    }\n",
       "</style>\n",
       "<table border=\"1\" class=\"dataframe\">\n",
       "  <thead>\n",
       "    <tr style=\"text-align: right;\">\n",
       "      <th></th>\n",
       "      <th>Machine_ID</th>\n",
       "      <th>Temperature</th>\n",
       "      <th>Downtime_Flag</th>\n",
       "      <th>Run_Time</th>\n",
       "    </tr>\n",
       "  </thead>\n",
       "  <tbody>\n",
       "    <tr>\n",
       "      <th>0</th>\n",
       "      <td>Makino-L1-Unit1-2013</td>\n",
       "      <td>25.6</td>\n",
       "      <td>1</td>\n",
       "      <td>166</td>\n",
       "    </tr>\n",
       "    <tr>\n",
       "      <th>1</th>\n",
       "      <td>Makino-L1-Unit1-2013</td>\n",
       "      <td>35.3</td>\n",
       "      <td>1</td>\n",
       "      <td>162</td>\n",
       "    </tr>\n",
       "    <tr>\n",
       "      <th>2</th>\n",
       "      <td>Makino-L3-Unit1-2015</td>\n",
       "      <td>13.1</td>\n",
       "      <td>1</td>\n",
       "      <td>103</td>\n",
       "    </tr>\n",
       "    <tr>\n",
       "      <th>3</th>\n",
       "      <td>Makino-L2-Unit1-2015</td>\n",
       "      <td>24.4</td>\n",
       "      <td>1</td>\n",
       "      <td>139</td>\n",
       "    </tr>\n",
       "    <tr>\n",
       "      <th>4</th>\n",
       "      <td>Makino-L1-Unit1-2013</td>\n",
       "      <td>4.1</td>\n",
       "      <td>1</td>\n",
       "      <td>104</td>\n",
       "    </tr>\n",
       "  </tbody>\n",
       "</table>\n",
       "</div>"
      ],
      "text/plain": [
       "             Machine_ID  Temperature Downtime_Flag  Run_Time\n",
       "0  Makino-L1-Unit1-2013         25.6             1       166\n",
       "1  Makino-L1-Unit1-2013         35.3             1       162\n",
       "2  Makino-L3-Unit1-2015         13.1             1       103\n",
       "3  Makino-L2-Unit1-2015         24.4             1       139\n",
       "4  Makino-L1-Unit1-2013          4.1             1       104"
      ]
     },
     "execution_count": 67,
     "metadata": {},
     "output_type": "execute_result"
    }
   ],
   "source": [
    "\n",
    "df['Run_Time'] = np.random.randint(50, 200, size=len(df))\n",
    "df.head()\n"
   ]
  },
  {
   "cell_type": "code",
   "execution_count": 76,
   "metadata": {},
   "outputs": [
    {
     "name": "stdout",
     "output_type": "stream",
     "text": [
      "Machine_ID        0\n",
      "Temperature      12\n",
      "Downtime_Flag     0\n",
      "Run_Time          0\n",
      "dtype: int64\n"
     ]
    }
   ],
   "source": [
    "print(df.isnull().sum())"
   ]
  },
  {
   "cell_type": "code",
   "execution_count": 77,
   "metadata": {},
   "outputs": [
    {
     "name": "stdout",
     "output_type": "stream",
     "text": [
      "Machine_ID       0\n",
      "Temperature      0\n",
      "Downtime_Flag    0\n",
      "Run_Time         0\n",
      "dtype: int64\n"
     ]
    }
   ],
   "source": [
    "df = df.dropna()\n",
    "print(df.isnull().sum())"
   ]
  },
  {
   "cell_type": "code",
   "execution_count": 78,
   "metadata": {},
   "outputs": [],
   "source": [
    "df.to_csv(\"final_data.csv\", index=False)"
   ]
  },
  {
   "cell_type": "code",
   "execution_count": null,
   "metadata": {},
   "outputs": [],
   "source": []
  }
 ],
 "metadata": {
  "kernelspec": {
   "display_name": "base",
   "language": "python",
   "name": "python3"
  },
  "language_info": {
   "codemirror_mode": {
    "name": "ipython",
    "version": 3
   },
   "file_extension": ".py",
   "mimetype": "text/x-python",
   "name": "python",
   "nbconvert_exporter": "python",
   "pygments_lexer": "ipython3",
   "version": "3.12.2"
  }
 },
 "nbformat": 4,
 "nbformat_minor": 2
}
